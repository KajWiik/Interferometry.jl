{
 "cells": [
  {
   "cell_type": "code",
   "execution_count": 62,
   "metadata": {},
   "outputs": [],
   "source": [
    "using FITSIO"
   ]
  },
  {
   "cell_type": "code",
   "execution_count": 63,
   "metadata": {},
   "outputs": [
    {
     "name": "stderr",
     "output_type": "stream",
     "text": [
      "WARNING: Method definition show(IO, Base.Multimedia.MIME{:text/plain}, Plots.Plot) in module Plots at /home/kjwiik/.julia/v0.5/Plots/src/output.jl:168 overwritten at /home/kjwiik/.julia/v0.5/Plots/src/output.jl:241.\n"
     ]
    }
   ],
   "source": [
    "using Plots"
   ]
  },
  {
   "cell_type": "code",
   "execution_count": 64,
   "metadata": {},
   "outputs": [
    {
     "name": "stdout",
     "output_type": "stream",
     "text": [
      "/home/kjwiik/proj/julia_interferometry\n"
     ]
    }
   ],
   "source": [
    ";cd proj/julia_interferometry"
   ]
  },
  {
   "cell_type": "code",
   "execution_count": 65,
   "metadata": {},
   "outputs": [
    {
     "data": {
      "text/plain": [
       "File: apr09.uvf\n",
       "Mode: \"r\" (read-only)\n",
       "HDUs: Num  Name     Ver  Type   \n",
       "      1                  Image  \n",
       "      2    AIPS FQ  1    Table  \n",
       "      3    AIPS AN  1    Table  \n"
      ]
     },
     "execution_count": 65,
     "metadata": {},
     "output_type": "execute_result"
    }
   ],
   "source": [
    "f=FITS(\"apr09.uvf\")"
   ]
  },
  {
   "cell_type": "code",
   "execution_count": 66,
   "metadata": {},
   "outputs": [
    {
     "data": {
      "text/plain": [
       "SIMPLE  =                    T / Standard FITS file\n",
       "BITPIX  =                  -32 / FITS data type\n",
       "NAXIS   =                    7 / Dimensionality of array\n",
       "NAXIS1  =                    0\n",
       "NAXIS2  =                    3\n",
       "NAXIS3  =                    4\n",
       "NAXIS4  =                    1\n",
       "NAXIS5  =                    1\n",
       "NAXIS6  =                    1\n",
       "NAXIS7  =                    1\n",
       "EXTEND  =                    T / Extensions may be present\n",
       "GROUPS  =                    T / Random-groups HDU\n",
       "PCOUNT  =                    7 / Parameter count\n",
       "GCOUNT  =                 3436 / Number of groups.\n",
       "CTYPE2  =            'COMPLEX' / Axis name\n",
       "CRPIX2  =                  1.0 / Reference pixel\n",
       "CRVAL2  =                  1.0 / Reference value\n",
       "CDELT2  =                  1.0 / Pixel increment\n",
       "CROTA2  =                  0.0 / Axis rotation\n",
       "CTYPE3  =             'STOKES' / Axis name\n",
       "CRPIX3  =                  1.0 / Reference pixel\n",
       "CRVAL3  =                 -1.0 / Reference value\n",
       "CDELT3  =                 -1.0 / Pixel increment\n",
       "CROTA3  =                  0.0 / Axis rotation\n",
       "CTYPE4  =               'FREQ' / Axis name\n",
       "CRPIX4  =                  1.0 / Reference pixel\n",
       "CRVAL4  =     4.32177472117e10 / Reference value\n",
       "CDELT4  =                2.6e7 / Pixel increment\n",
       "CROTA4  =                  0.0 / Axis rotation\n",
       "CTYPE5  =                 'IF' / Axis name\n",
       "CRPIX5  =                  1.0 / Reference pixel\n",
       "CRVAL5  =                  1.0 / Reference value\n",
       "CDELT5  =                  1.0 / Pixel increment\n",
       "CROTA5  =                  0.0 / Axis rotation\n",
       "CTYPE6  =                 'RA' / Axis name\n",
       "CRPIX6  =                  1.0 / Reference pixel\n",
       "CRVAL6  =        179.882641296 / Reference value\n",
       "CDELT6  =                  1.0 / Pixel increment\n",
       "CROTA6  =                  0.0 / Axis rotation\n",
       "CTYPE7  =                'DEC' / Axis name\n",
       "CRPIX7  =                  1.0 / Reference pixel\n",
       "CRVAL7  =        29.2455074583 / Reference value\n",
       "CDELT7  =                  1.0 / Pixel increment\n",
       "CROTA7  =                  0.0 / Axis rotation\n",
       "PTYPE1  =                 'UU' / Parameter name\n",
       "PSCAL1  =                  1.0 / Parameter scale\n",
       "PZERO1  =                  0.0 / Parameter offset\n",
       "PTYPE2  =                 'VV' / Parameter name\n",
       "PSCAL2  =                  1.0 / Parameter scale\n",
       "PZERO2  =                  0.0 / Parameter offset\n",
       "PTYPE3  =                 'WW' / Parameter name\n",
       "PSCAL3  =                  1.0 / Parameter scale\n",
       "PZERO3  =                  0.0 / Parameter offset\n",
       "PTYPE4  =           'BASELINE' / Parameter name\n",
       "PSCAL4  =                  1.0 / Parameter scale\n",
       "PZERO4  =                  0.0 / Parameter offset\n",
       "PTYPE5  =               'DATE' / Parameter name\n",
       "PSCAL5  =                  1.0 / Parameter scale\n",
       "PZERO5  =           2.454832e6 / Parameter offset\n",
       "PTYPE6  =               'DATE' / Parameter name\n",
       "PSCAL6  =                  1.0 / Parameter scale\n",
       "PZERO6  =                  0.5 / Parameter offset\n",
       "PTYPE7  =             'INTTIM' / Parameter name\n",
       "PSCAL7  =                  1.0 / Parameter scale\n",
       "PZERO7  =                  0.0 / Parameter offset\n",
       "ORIGIN  = 'AIPSlocalhost    BUSGJ                31DEC09' / Origin of data\n",
       "DATE-OBS=         '2009-04-01' / Observation date\n",
       "TELESCOP=               'VLBA' / Telescope used\n",
       "OBSERVER=              'S1136' / Observers name\n",
       "OBJECT  =           '1156+295' / Name of observed source\n",
       "EPOCH   =               2000.0 / Equinox of coordinates\n",
       "BSCALE  =                  1.0 / Scale factor of array\n",
       "BZERO   =                  0.0 / Zero offset of array\n",
       "BUNIT   =            'UNCALIB' / Unit of measurement\n",
       "VELREF  =                    3 / >256 RADIO, 1 LSR 2 HEL 3 OBS\n",
       "ALTRVAL =                  0.0 / Alternate Freq/vel ref value\n",
       "ALTRPIX =                  0.0 / Alternate Freq/vel ref pixel\n",
       "RESTFREQ=                  0.0 / Rest frequency\n",
       "OBSRA   =        179.882641296 / Antenna pointing RA\n",
       "OBSDEC  =        29.2455074583 / Antenna pointing Dec\n",
       "HISTORY AIPS HEADER2  MAXABSU  = -1.000000000E+00 /AIPS Catalog Header Keyword\n",
       "HISTORY /--------------------------------------------------------------------\n",
       "HISTORY /Begin \"HISTORY\" information found in FITS tape header by FITLD\n",
       "HISTORY EXTEND  =                    T /This is the antenna file\n",
       "HISTORY BLOCKED =                    T /Tape may be blocked\n",
       "HISTORY  / Where baseline = 256*ant1 + ant2 + (array#-1)/100\n",
       "HISTORY /--------------------------------------------------------------------\n",
       "HISTORY /Begin \"HISTORY\" information found in FITS tape header by FITLD\n",
       "HISTORY EXTEND  =                    T           /Extensions may be present\n",
       "HISTORY /--------------------------------------------------------------------\n",
       "HISTORY /Begin \"HISTORY\" information found in FITS tape header by FITLD\n",
       "HISTORY EXTEND  =                    T / All data in tables\n",
       "HISTORY BLOCKED =                    T / Tape may be blocked\n",
       "HISTORY /--------------------------------------------------------------------\n",
       "HISTORY CLCOR RELEASE ='31DEC09 '  /********* Start 17-JUN-2009   14:10:05\n",
       "HISTORY CLCOR  SOURCES = ''     /All sources selected\n",
       "HISTORY CLCOR  ANTENNAS = 0     /All antennas selected\n",
       "HISTORY CLCOR /TIMERANG = beginning to end\n",
       "HISTORY CLCOR  STOKES = 'L   ' / Stokes type\n",
       "HISTORY CLCOR  BIF =   1, EIF =   1/ IF range\n",
       "HISTORY CLCOR  SUBARRAY =  1 GAINVER =    1 GAINUSE =    2 /CL table\n",
       "HISTORY CLCOR   OPCODE = 'PHAS' / Operation code\n",
       "HISTORY CLCOR   CLPARM( 1)=   40.00 / Phase(deg) to rotate gains\n",
       "HISTORY CLCOR    /  10710 Records modified\n",
       "HISTORY SPLIT RELEASE ='31DEC09 '  /********* Start 17-JUN-2009   14:12:20\n",
       "HISTORY SPLIT INNAME='APR09       '   INCLASS='EVPA  '\n",
       "HISTORY SPLIT INSEQ=   26   INDISK=  1\n",
       "HISTORY SPLIT OUTNAME='1156+295    '   OUTCLASS='UVPN  '\n",
       "HISTORY SPLIT OUTSEQ=    1   OUTDISK=  1\n",
       "HISTORY SPLIT /TIMERANG = beginning to end\n",
       "HISTORY SPLIT STOKES = '    ' / Stokes type\n",
       "HISTORY SPLIT BIF =   1, EIF =   1/ IF range\n",
       "HISTORY SPLIT BCHAN =   1, ECHAN =   1/ Chan range\n",
       "HISTORY SPLIT SUBARRAY =   0\n",
       "HISTORY SPLIT GAINUSE =  2 / CL table\n",
       "HISTORY SPLIT / Weights calibrated\n",
       "HISTORY SPLIT /            Previously flagged   flagged by gain         kept\n",
       "HISTORY SPLIT / Partially               0                   0              0\n",
       "HISTORY SPLIT / Fully                   0                   0           3436\n",
       "HISTORY AIPS   IMNAME='1156+295    ' IMCLASS='UVPN  ' IMSEQ=   1     /\n",
       "HISTORY AIPS   USERNO=  107            /\n",
       "HISTORY AIPS   SORT ORDER = 'TB'\n",
       "HISTORY AIPS WTSCAL =  1.00000000000E+00 / CMPLX WTS=WTSCAL*(TAPE*BSCALE+BZERO)\n",
       "HISTORY DIFMAP  Read into difmap on Tue May  1 20:43:50 2012\n",
       "HISTORY AIPS IMCLASS='UVF'\n",
       "HISTORY AIPS WTSCAL=1\n",
       "HISTORY AIPS SORT ORDER='TB'\n"
      ]
     },
     "execution_count": 66,
     "metadata": {},
     "output_type": "execute_result"
    }
   ],
   "source": [
    "header = read_header(f[1])"
   ]
  },
  {
   "cell_type": "code",
   "execution_count": 92,
   "metadata": {},
   "outputs": [
    {
     "name": "stdout",
     "output_type": "stream",
     "text": [
      "(k,header[k]) = (\"SIMPLE\",true)\n",
      "(k,header[k]) = (\"BITPIX\",-32)\n",
      "(k,header[k]) = (\"NAXIS\",7)\n",
      "(k,header[k]) = (\"NAXIS1\",0)\n",
      "(k,header[k]) = (\"NAXIS2\",3)\n",
      "(k,header[k]) = (\"NAXIS3\",4)\n",
      "(k,header[k]) = (\"NAXIS4\",1)\n",
      "(k,header[k]) = (\"NAXIS5\",1)\n",
      "(k,header[k]) = (\"NAXIS6\",1)\n",
      "(k,header[k]) = (\"NAXIS7\",1)\n",
      "(k,header[k]) = (\"EXTEND\",true)\n",
      "(k,header[k]) = (\"GROUPS\",true)\n",
      "(k,header[k]) = (\"PCOUNT\",7)\n",
      "(k,header[k]) = (\"GCOUNT\",3436)\n",
      "(k,header[k]) = (\"CTYPE2\",\"COMPLEX\")\n",
      "(k,header[k]) = (\"CRPIX2\",1.0)\n",
      "(k,header[k]) = (\"CRVAL2\",1.0)\n",
      "(k,header[k]) = (\"CDELT2\",1.0)\n",
      "(k,header[k]) = (\"CROTA2\",0.0)\n",
      "(k,header[k]) = (\"CTYPE3\",\"STOKES\")\n",
      "(k,header[k]) = (\"CRPIX3\",1.0)\n",
      "(k,header[k]) = (\"CRVAL3\",-1.0)\n",
      "(k,header[k]) = (\"CDELT3\",-1.0)\n",
      "(k,header[k]) = (\"CROTA3\",0.0)\n",
      "(k,header[k]) = (\"CTYPE4\",\"FREQ\")\n",
      "(k,header[k]) = (\"CRPIX4\",1.0)\n",
      "(k,header[k]) = (\"CRVAL4\",4.32177472117e10)\n",
      "(k,header[k]) = (\"CDELT4\",2.6e7)\n",
      "(k,header[k]) = (\"CROTA4\",0.0)\n",
      "(k,header[k]) = (\"CTYPE5\",\"IF\")\n",
      "(k,header[k]) = (\"CRPIX5\",1.0)\n",
      "(k,header[k]) = (\"CRVAL5\",1.0)\n",
      "(k,header[k]) = (\"CDELT5\",1.0)\n",
      "(k,header[k]) = (\"CROTA5\",0.0)\n",
      "(k,header[k]) = (\"CTYPE6\",\"RA\")\n",
      "(k,header[k]) = (\"CRPIX6\",1.0)\n",
      "(k,header[k]) = (\"CRVAL6\",179.882641296)\n",
      "(k,header[k]) = (\"CDELT6\",1.0)\n",
      "(k,header[k]) = (\"CROTA6\",0.0)\n",
      "(k,header[k]) = (\"CTYPE7\",\"DEC\")\n",
      "(k,header[k]) = (\"CRPIX7\",1.0)\n",
      "(k,header[k]) = (\"CRVAL7\",29.2455074583)\n",
      "(k,header[k]) = (\"CDELT7\",1.0)\n",
      "(k,header[k]) = (\"CROTA7\",0.0)\n",
      "(k,header[k]) = (\"PTYPE1\",\"UU\")\n",
      "(k,header[k]) = (\"PSCAL1\",1.0)\n",
      "(k,header[k]) = (\"PZERO1\",0.0)\n",
      "(k,header[k]) = (\"PTYPE2\",\"VV\")\n",
      "(k,header[k]) = (\"PSCAL2\",1.0)\n",
      "(k,header[k]) = (\"PZERO2\",0.0)\n",
      "(k,header[k]) = (\"PTYPE3\",\"WW\")\n",
      "(k,header[k]) = (\"PSCAL3\",1.0)\n",
      "(k,header[k]) = (\"PZERO3\",0.0)\n",
      "(k,header[k]) = (\"PTYPE4\",\"BASELINE\")\n",
      "(k,header[k]) = (\"PSCAL4\",1.0)\n",
      "(k,header[k]) = (\"PZERO4\",0.0)\n",
      "(k,header[k]) = (\"PTYPE5\",\"DATE\")\n",
      "(k,header[k]) = (\"PSCAL5\",1.0)\n",
      "(k,header[k]) = (\"PZERO5\",2.454832e6)\n",
      "(k,header[k]) = (\"PTYPE6\",\"DATE\")\n",
      "(k,header[k]) = (\"PSCAL6\",1.0)\n",
      "(k,header[k]) = (\"PZERO6\",0.5)\n",
      "(k,header[k]) = (\"PTYPE7\",\"INTTIM\")\n",
      "(k,header[k]) = (\"PSCAL7\",1.0)\n",
      "(k,header[k]) = (\"PZERO7\",0.0)\n",
      "(k,header[k]) = (\"ORIGIN\",\"AIPSlocalhost    BUSGJ                31DEC09\")\n",
      "(k,header[k]) = (\"DATE-OBS\",\"2009-04-01\")\n",
      "(k,header[k]) = (\"TELESCOP\",\"VLBA\")\n",
      "(k,header[k]) = (\"OBSERVER\",\"S1136\")\n",
      "(k,header[k]) = (\"OBJECT\",\"1156+295\")\n",
      "(k,header[k]) = (\"EPOCH\",2000.0)\n",
      "(k,header[k]) = (\"BSCALE\",1.0)\n",
      "(k,header[k]) = (\"BZERO\",0.0)\n",
      "(k,header[k]) = (\"BUNIT\",\"UNCALIB\")\n",
      "(k,header[k]) = (\"VELREF\",3)\n",
      "(k,header[k]) = (\"ALTRVAL\",0.0)\n",
      "(k,header[k]) = (\"ALTRPIX\",0.0)\n",
      "(k,header[k]) = (\"RESTFREQ\",0.0)\n",
      "(k,header[k]) = (\"OBSRA\",179.882641296)\n",
      "(k,header[k]) = (\"OBSDEC\",29.2455074583)\n",
      "(k,header[k]) = (\"HISTORY\",nothing)\n",
      "(k,header[k]) = (\"HISTORY\",nothing)\n",
      "(k,header[k]) = (\"HISTORY\",nothing)\n",
      "(k,header[k]) = (\"HISTORY\",nothing)\n",
      "(k,header[k]) = (\"HISTORY\",nothing)\n",
      "(k,header[k]) = (\"HISTORY\",nothing)\n",
      "(k,header[k]) = (\"HISTORY\",nothing)\n",
      "(k,header[k]) = (\"HISTORY\",nothing)\n",
      "(k,header[k]) = (\"HISTORY\",nothing)\n",
      "(k,header[k]) = (\"HISTORY\",nothing)\n",
      "(k,header[k]) = (\"HISTORY\",nothing)\n",
      "(k,header[k]) = (\"HISTORY\",nothing)\n",
      "(k,header[k]) = (\"HISTORY\",nothing)\n",
      "(k,header[k]) = (\"HISTORY\",nothing)\n",
      "(k,header[k]) = (\"HISTORY\",nothing)\n",
      "(k,header[k]) = (\"HISTORY\",nothing)\n",
      "(k,header[k]) = (\"HISTORY\",nothing)\n",
      "(k,header[k]) = (\"HISTORY\",nothing)\n",
      "(k,header[k]) = (\"HISTORY\",nothing)\n",
      "(k,header[k]) = (\"HISTORY\",nothing)\n",
      "(k,header[k]) = (\"HISTORY\",nothing)\n",
      "(k,header[k]) = (\"HISTORY\",nothing)\n",
      "(k,header[k]) = (\"HISTORY\",nothing)\n",
      "(k,header[k]) = (\"HISTORY\",nothing)\n",
      "(k,header[k]) = (\"HISTORY\",nothing)\n",
      "(k,header[k]) = (\"HISTORY\",nothing)\n",
      "(k,header[k]) = (\"HISTORY\",nothing)\n",
      "(k,header[k]) = (\"HISTORY\",nothing)\n",
      "(k,header[k]) = (\"HISTORY\",nothing)\n",
      "(k,header[k]) = (\"HISTORY\",nothing)\n",
      "(k,header[k]) = (\"HISTORY\",nothing)\n",
      "(k,header[k]) = (\"HISTORY\",nothing)\n",
      "(k,header[k]) = (\"HISTORY\",nothing)\n",
      "(k,header[k]) = (\"HISTORY\",nothing)\n",
      "(k,header[k]) = (\"HISTORY\",nothing)\n",
      "(k,header[k]) = (\"HISTORY\",nothing)\n",
      "(k,header[k]) = (\"HISTORY\",nothing)\n",
      "(k,header[k]) = (\"HISTORY\",nothing)\n",
      "(k,header[k]) = (\"HISTORY\",nothing)\n",
      "(k,header[k]) = (\"HISTORY\",nothing)\n",
      "(k,header[k]) = (\"HISTORY\",nothing)\n",
      "(k,header[k]) = (\"HISTORY\",nothing)\n",
      "(k,header[k]) = (\"HISTORY\",nothing)\n",
      "(k,header[k]) = (\"HISTORY\",nothing)\n",
      "(k,header[k]) = (\"HISTORY\",nothing)\n",
      "(k,header[k]) = (\"HISTORY\",nothing)\n",
      "(k,header[k]) = (\"HISTORY\",nothing)\n"
     ]
    }
   ],
   "source": [
    "for k in keys(header)\n",
    "    @show k, header[k]\n",
    "end"
   ]
  },
  {
   "cell_type": "code",
   "execution_count": 67,
   "metadata": {},
   "outputs": [
    {
     "data": {
      "text/plain": [
       "3"
      ]
     },
     "execution_count": 67,
     "metadata": {},
     "output_type": "execute_result"
    }
   ],
   "source": [
    "header[\"NAXIS2\"]"
   ]
  },
  {
   "cell_type": "code",
   "execution_count": 68,
   "metadata": {},
   "outputs": [
    {
     "data": {
      "text/plain": [
       "File: apr09.uvf\n",
       "HDU: 3 (name=\"AIPS AN\", ver=1)\n",
       "Type: Table\n",
       "Rows: 10\n",
       "Columns: Name     Size  Type     TFORM  \n",
       "         ANNAME         String   8A     \n",
       "         STABXYZ  (3,)  Float64  3D     \n",
       "         ORBPARM  (0,)  Float64  0D     \n",
       "         NOSTA          Int32    1J     \n",
       "         MNTSTA         Int32    1J     \n",
       "         STAXOF         Float32  1E     \n",
       "         POLTYA         String   1A     \n",
       "         POLAA          Float32  1E     \n",
       "         POLCALA  (2,)  Float32  2E     \n",
       "         POLTYB         String   1A     \n",
       "         POLAB          Float32  1E     \n",
       "         POLCALB  (2,)  Float32  2E     \n"
      ]
     },
     "execution_count": 68,
     "metadata": {},
     "output_type": "execute_result"
    }
   ],
   "source": [
    "f[3]"
   ]
  },
  {
   "cell_type": "code",
   "execution_count": 69,
   "metadata": {},
   "outputs": [
    {
     "data": {
      "text/plain": [
       "10-element Array{String,1}:\n",
       " \"BR\"\n",
       " \"FD\"\n",
       " \"HN\"\n",
       " \"KP\"\n",
       " \"LA\"\n",
       " \"MK\"\n",
       " \"NL\"\n",
       " \"OV\"\n",
       " \"PT\"\n",
       " \"SC\""
      ]
     },
     "execution_count": 69,
     "metadata": {},
     "output_type": "execute_result"
    }
   ],
   "source": [
    "read(f[3],\"ANNAME\")"
   ]
  },
  {
   "cell_type": "code",
   "execution_count": 70,
   "metadata": {},
   "outputs": [
    {
     "data": {
      "text/plain": [
       "3×10 Array{Float64,2}:\n",
       " -2.11207e6  -1.32401e6  1.44637e6  …  -2.40915e6  -1.64095e6  2.60785e6\n",
       "  3.70536e6   5.33218e6  4.44794e6      4.47857e6   5.01482e6  5.48807e6\n",
       "  4.72681e6   3.23196e6  4.32231e6      3.83862e6   3.57541e6  1.93274e6"
      ]
     },
     "execution_count": 70,
     "metadata": {},
     "output_type": "execute_result"
    }
   ],
   "source": [
    "read(f[3],\"STABXYZ\")"
   ]
  },
  {
   "cell_type": "code",
   "execution_count": 71,
   "metadata": {},
   "outputs": [
    {
     "data": {
      "text/plain": [
       "\"SC\""
      ]
     },
     "execution_count": 71,
     "metadata": {},
     "output_type": "execute_result"
    }
   ],
   "source": [
    "read(f[3],\"ANNAME\")[10]"
   ]
  },
  {
   "cell_type": "code",
   "execution_count": 72,
   "metadata": {
    "collapsed": true
   },
   "outputs": [],
   "source": [
    "#fits_read_col(f::FITSFile, colnum::Integer, firstrow::Integer, firstelem::Integer, data::Array)"
   ]
  },
  {
   "cell_type": "code",
   "execution_count": 73,
   "metadata": {},
   "outputs": [],
   "source": [
    "data=zeros(Float32,header[\"PCOUNT\"]*header[\"GCOUNT\"]);"
   ]
  },
  {
   "cell_type": "code",
   "execution_count": 74,
   "metadata": {
    "collapsed": true
   },
   "outputs": [],
   "source": [
    "using FITSIO.Libcfitsio"
   ]
  },
  {
   "cell_type": "code",
   "execution_count": 75,
   "metadata": {},
   "outputs": [
    {
     "data": {
      "text/plain": [
       "FITSIO.Libcfitsio.FITSFile(Ptr{Void} @0x0000000004d1cbd0)"
      ]
     },
     "execution_count": 75,
     "metadata": {},
     "output_type": "execute_result"
    }
   ],
   "source": [
    "ff=fits_open_file(\"apr09.uvf\")"
   ]
  },
  {
   "cell_type": "code",
   "execution_count": 103,
   "metadata": {},
   "outputs": [],
   "source": [
    "fits_read_col(ff,1,1,1,data)"
   ]
  },
  {
   "cell_type": "code",
   "execution_count": 86,
   "metadata": {},
   "outputs": [
    {
     "data": {
      "text/plain": [
       "24052-element Array{Float32,1}:\n",
       "   1.40221   \n",
       "   0.541172  \n",
       "   5.89892   \n",
       "   1.37443   \n",
       "   0.855598  \n",
       "  68.8316    \n",
       "   0.176978  \n",
       "   0.415689  \n",
       "  11.2067    \n",
       "  -0.429001  \n",
       "  -0.432436  \n",
       "  13.0704    \n",
       "   1.52735   \n",
       "   ⋮         \n",
       "   0.117772  \n",
       " 192.34      \n",
       "   0.0448382 \n",
       "   0.00550166\n",
       " 521.523     \n",
       "   0.0180689 \n",
       "   0.208052  \n",
       " 464.398     \n",
       "   1.55247   \n",
       "   0.170068  \n",
       " 306.012     \n",
       "   1.54831   "
      ]
     },
     "execution_count": 86,
     "metadata": {},
     "output_type": "execute_result"
    }
   ],
   "source": [
    "data"
   ]
  },
  {
   "cell_type": "code",
   "execution_count": 81,
   "metadata": {},
   "outputs": [
    {
     "data": {
      "text/plain": [
       "7"
      ]
     },
     "execution_count": 81,
     "metadata": {},
     "output_type": "execute_result"
    }
   ],
   "source": [
    "header[\"PCOUNT\"]"
   ]
  },
  {
   "cell_type": "code",
   "execution_count": 80,
   "metadata": {},
   "outputs": [
    {
     "data": {
      "text/plain": [
       "3436"
      ]
     },
     "execution_count": 80,
     "metadata": {},
     "output_type": "execute_result"
    }
   ],
   "source": [
    "header[\"GCOUNT\"]"
   ]
  },
  {
   "cell_type": "code",
   "execution_count": 104,
   "metadata": {},
   "outputs": [
    {
     "data": {
      "text/plain": [
       "7×3436 Array{Float32,2}:\n",
       "   0.00368597    0.00261533    0.00273434  …     0.000103477    -0.00223165 \n",
       "   0.00521252    0.00491358    0.00277978        0.00438738     -0.000300581\n",
       "   3.63997f-5   -0.0018345     0.00109908       -0.00339759      0.00233789 \n",
       " 260.0         261.0         264.0            1801.0          2057.0        \n",
       "  91.0          91.0          91.0              91.0            91.0        \n",
       "   0.0519676     0.0519676     0.0519676   …     0.440162        0.440162   \n",
       "  15.7286       15.7286       15.7286           47.1859         47.1859     "
      ]
     },
     "execution_count": 104,
     "metadata": {},
     "output_type": "execute_result"
    }
   ],
   "source": [
    "r=reshape(data,header[\"PCOUNT\"],header[\"GCOUNT\"])"
   ]
  },
  {
   "cell_type": "code",
   "execution_count": 83,
   "metadata": {
    "collapsed": true
   },
   "outputs": [],
   "source": [
    "using Plots"
   ]
  },
  {
   "cell_type": "code",
   "execution_count": 108,
   "metadata": {},
   "outputs": [
    {
     "data": {
      "text/html": [
       "<img src=\"data:image/png;base64,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\" />"
      ]
     },
     "execution_count": 108,
     "metadata": {},
     "output_type": "execute_result"
    }
   ],
   "source": [
    "scatter(r[1,:], r[2,:],msize=1)"
   ]
  },
  {
   "cell_type": "code",
   "execution_count": 66,
   "metadata": {},
   "outputs": [
    {
     "data": {
      "text/plain": [
       "(\"3436\",\"Number of groups.\")"
      ]
     },
     "execution_count": 66,
     "metadata": {},
     "output_type": "execute_result"
    }
   ],
   "source": [
    "fits_read_keyword(ff,\"GCOUNT\")"
   ]
  },
  {
   "cell_type": "code",
   "execution_count": 67,
   "metadata": {},
   "outputs": [
    {
     "data": {
      "text/plain": [
       "\"7\""
      ]
     },
     "execution_count": 67,
     "metadata": {},
     "output_type": "execute_result"
    }
   ],
   "source": [
    "fits_read_keyword(ff,\"PCOUNT\")[1]"
   ]
  },
  {
   "cell_type": "code",
   "execution_count": 68,
   "metadata": {},
   "outputs": [
    {
     "data": {
      "text/plain": [
       "\"Parameter count\""
      ]
     },
     "execution_count": 68,
     "metadata": {},
     "output_type": "execute_result"
    }
   ],
   "source": [
    "fits_read_keyword(ff,\"PCOUNT\")[2]"
   ]
  },
  {
   "cell_type": "code",
   "execution_count": 69,
   "metadata": {},
   "outputs": [
    {
     "data": {
      "text/plain": [
       "3"
      ]
     },
     "execution_count": 69,
     "metadata": {},
     "output_type": "execute_result"
    }
   ],
   "source": [
    "fits_get_num_hdus(ff)"
   ]
  },
  {
   "cell_type": "code",
   "execution_count": 73,
   "metadata": {},
   "outputs": [
    {
     "data": {
      "text/plain": [
       ":binary_table"
      ]
     },
     "execution_count": 73,
     "metadata": {},
     "output_type": "execute_result"
    }
   ],
   "source": [
    "fits_movabs_hdu(ff,3)"
   ]
  },
  {
   "cell_type": "code",
   "execution_count": 74,
   "metadata": {},
   "outputs": [
    {
     "ename": "LoadError",
     "evalue": "LoadError: keyword not found in header\nwhile loading In[74], in expression starting on line 1",
     "output_type": "error",
     "traceback": [
      "LoadError: keyword not found in header\nwhile loading In[74], in expression starting on line 1",
      "",
      " in fits_assert_ok at /home/kjwiik/.julia/v0.5/FITSIO/src/libcfitsio.jl:202 [inlined]",
      " in fits_read_keyword(::FITSIO.Libcfitsio.FITSFile, ::String) at /home/kjwiik/.julia/v0.5/FITSIO/src/libcfitsio.jl:301"
     ]
    }
   ],
   "source": [
    "fits_read_keyword(ff,\"ANNAME\")"
   ]
  },
  {
   "cell_type": "code",
   "execution_count": 10,
   "metadata": {},
   "outputs": [
    {
     "name": "stderr",
     "output_type": "stream",
     "text": [
      "WARNING: Method definition nodict(Any) in module Main at In[9]:2 overwritten at In[10]:2.\n"
     ]
    },
    {
     "data": {
      "text/plain": [
       "nodict (generic function with 1 method)"
      ]
     },
     "execution_count": 10,
     "metadata": {},
     "output_type": "execute_result"
    }
   ],
   "source": [
    "function nodict(n)\n",
    "    a=0.0;b = 0.5\n",
    "    for i in 1:n\n",
    "        a+=sin(b)\n",
    "    end\n",
    "end"
   ]
  },
  {
   "cell_type": "code",
   "execution_count": 11,
   "metadata": {},
   "outputs": [
    {
     "name": "stderr",
     "output_type": "stream",
     "text": [
      "WARNING: Method definition dict(Any, Any) in module Main at In[3]:3 overwritten at In[11]:2.\n"
     ]
    },
    {
     "data": {
      "text/plain": [
       "dict (generic function with 1 method)"
      ]
     },
     "execution_count": 11,
     "metadata": {},
     "output_type": "execute_result"
    }
   ],
   "source": [
    "function dict(n,d)\n",
    "    a=0.0\n",
    "    for i in 1:n\n",
    "        a+=sin(d[\"b\"])\n",
    "    end\n",
    "end"
   ]
  },
  {
   "cell_type": "code",
   "execution_count": 12,
   "metadata": {},
   "outputs": [
    {
     "name": "stderr",
     "output_type": "stream",
     "text": [
      "WARNING: Method definition dict_preass(Any, Any) in module Main at In[4]:2 overwritten at In[12]:2.\n"
     ]
    },
    {
     "data": {
      "text/plain": [
       "dict_preass (generic function with 1 method)"
      ]
     },
     "execution_count": 12,
     "metadata": {},
     "output_type": "execute_result"
    }
   ],
   "source": [
    "function dict_preass(n,d)\n",
    "    a=0.0\n",
    "    b=d[\"b\"]\n",
    "    for i in 1:n\n",
    "        a+=sin(b)\n",
    "    end\n",
    "end"
   ]
  },
  {
   "cell_type": "code",
   "execution_count": 7,
   "metadata": {},
   "outputs": [
    {
     "data": {
      "text/plain": [
       "Dict{String,Float64} with 1 entry:\n",
       "  \"b\" => 0.5"
      ]
     },
     "execution_count": 7,
     "metadata": {},
     "output_type": "execute_result"
    }
   ],
   "source": [
    "d=Dict(\"b\" => 0.5)"
   ]
  },
  {
   "cell_type": "code",
   "execution_count": 15,
   "metadata": {},
   "outputs": [
    {
     "name": "stdout",
     "output_type": "stream",
     "text": [
      "  0.001525 seconds (4 allocations: 160 bytes)\n",
      "  0.007271 seconds (4 allocations: 160 bytes)\n",
      "  0.001058 seconds (4 allocations: 160 bytes)\n"
     ]
    }
   ],
   "source": [
    "@time nodict(100000);@time dict(100000,d);@time dict_preass(100000,d);"
   ]
  },
  {
   "cell_type": "code",
   "execution_count": 18,
   "metadata": {},
   "outputs": [
    {
     "data": {
      "text/plain": [
       "Dict{String,Float64} with 1 entry:\n",
       "  \"b\" => 0.5"
      ]
     },
     "execution_count": 18,
     "metadata": {},
     "output_type": "execute_result"
    }
   ],
   "source": [
    "const D=Dict(\"b\" => 0.5)"
   ]
  },
  {
   "cell_type": "code",
   "execution_count": 22,
   "metadata": {},
   "outputs": [
    {
     "name": "stdout",
     "output_type": "stream",
     "text": [
      "  0.001444 seconds (4 allocations: 160 bytes)\n",
      "  0.008091 seconds (4 allocations: 160 bytes)\n",
      "  0.001063 seconds (4 allocations: 160 bytes)\n"
     ]
    }
   ],
   "source": [
    "@time nodict(100000);@time dict(100000,D);@time dict_preass(100000,D);"
   ]
  },
  {
   "cell_type": "code",
   "execution_count": 57,
   "metadata": {},
   "outputs": [],
   "source": [
    "# https://groups.google.com/d/msg/julia-users/cuFwMZXt5FQ/5oxzf21p9xIJ\n"
   ]
  },
  {
   "cell_type": "code",
   "execution_count": 47,
   "metadata": {},
   "outputs": [
    {
     "data": {
      "text/plain": [
       "make_arg (generic function with 1 method)"
      ]
     },
     "execution_count": 47,
     "metadata": {},
     "output_type": "execute_result"
    }
   ],
   "source": [
    "make_arg(nm::Symbol, typ::DataType) = Expr(:(::), nm, :($typ))"
   ]
  },
  {
   "cell_type": "code",
   "execution_count": 48,
   "metadata": {},
   "outputs": [
    {
     "data": {
      "text/plain": [
       "make_type (generic function with 1 method)"
      ]
     },
     "execution_count": 48,
     "metadata": {},
     "output_type": "execute_result"
    }
   ],
   "source": [
    "function make_type(name::Symbol, fields::Vector{Symbol}, types::Vector{DataType})\n",
    "    fs = map(x->make_arg(x...), zip(fields, types))\n",
    "    Expr(:type, true, name, Expr(:block, fs...))\n",
    "end"
   ]
  },
  {
   "cell_type": "code",
   "execution_count": 52,
   "metadata": {},
   "outputs": [
    {
     "data": {
      "text/plain": [
       ":(type Testing\n",
       "        a::Float64\n",
       "        b::Float64\n",
       "    end)"
      ]
     },
     "execution_count": 52,
     "metadata": {},
     "output_type": "execute_result"
    }
   ],
   "source": [
    "types = make_type(:Testing,[:a, :b], [Float64, Float64])"
   ]
  },
  {
   "cell_type": "code",
   "execution_count": 55,
   "metadata": {},
   "outputs": [],
   "source": [
    "eval(types)"
   ]
  },
  {
   "cell_type": "code",
   "execution_count": 58,
   "metadata": {},
   "outputs": [
    {
     "data": {
      "text/plain": [
       "Testing(1.0,2.0)"
      ]
     },
     "execution_count": 58,
     "metadata": {},
     "output_type": "execute_result"
    }
   ],
   "source": [
    "a=Testing(1,2)"
   ]
  },
  {
   "cell_type": "code",
   "execution_count": 61,
   "metadata": {},
   "outputs": [
    {
     "data": {
      "text/plain": [
       "1.0"
      ]
     },
     "execution_count": 61,
     "metadata": {},
     "output_type": "execute_result"
    }
   ],
   "source": [
    "a.a"
   ]
  },
  {
   "cell_type": "code",
   "execution_count": 24,
   "metadata": {},
   "outputs": [
    {
     "data": {
      "text/plain": [
       "composite_type (generic function with 1 method)"
      ]
     },
     "execution_count": 24,
     "metadata": {},
     "output_type": "execute_result"
    }
   ],
   "source": [
    "function composite_type(n,c)\n",
    "    a=0.0\n",
    "    \n",
    "    for i in 1:n\n",
    "        a+=sin(c.b)\n",
    "    end\n",
    "end"
   ]
  },
  {
   "cell_type": "code",
   "execution_count": 26,
   "metadata": {},
   "outputs": [],
   "source": [
    "type Foo; b::Float64; end"
   ]
  },
  {
   "cell_type": "code",
   "execution_count": 27,
   "metadata": {},
   "outputs": [
    {
     "data": {
      "text/plain": [
       "Foo(0.5)"
      ]
     },
     "execution_count": 27,
     "metadata": {},
     "output_type": "execute_result"
    }
   ],
   "source": [
    "c=Foo(0.5)"
   ]
  },
  {
   "cell_type": "code",
   "execution_count": 28,
   "metadata": {},
   "outputs": [
    {
     "data": {
      "text/plain": [
       "0.5"
      ]
     },
     "execution_count": 28,
     "metadata": {},
     "output_type": "execute_result"
    }
   ],
   "source": [
    "c.b"
   ]
  },
  {
   "cell_type": "code",
   "execution_count": 35,
   "metadata": {},
   "outputs": [
    {
     "name": "stdout",
     "output_type": "stream",
     "text": [
      "  0.161319 seconds (4 allocations: 160 bytes)\n",
      "  0.638035 seconds (4 allocations: 160 bytes)\n",
      "  0.105564 seconds (4 allocations: 160 bytes)\n",
      "  0.106916 seconds (4 allocations: 160 bytes)\n"
     ]
    }
   ],
   "source": [
    "@time nodict(10000000);@time dict(10000000,D);@time dict_preass(10000000,D); @time composite_type(10000000,c);"
   ]
  },
  {
   "cell_type": "code",
   "execution_count": 118,
   "metadata": {},
   "outputs": [],
   "source": [
    "fname = Symbol[];ftype = DataType[]; fvalue = Any[];"
   ]
  },
  {
   "cell_type": "code",
   "execution_count": 131,
   "metadata": {},
   "outputs": [
    {
     "name": "stdout",
     "output_type": "stream",
     "text": [
      "k = \"SIMPLE\"\n",
      "val = true\n",
      "typeof(val) = Bool\n",
      "k = \"BITPIX\"\n",
      "val = -32\n",
      "typeof(val) = Int64\n",
      "k = \"NAXIS\"\n",
      "val = 7\n",
      "typeof(val) = Int64\n",
      "k = \"NAXIS1\"\n",
      "val = 0\n",
      "typeof(val) = Int64\n",
      "k = \"NAXIS2\"\n",
      "val = 3\n",
      "typeof(val) = Int64\n",
      "k = \"NAXIS3\"\n",
      "val = 4\n",
      "typeof(val) = Int64\n",
      "k = \"NAXIS4\"\n",
      "val = 1\n",
      "typeof(val) = Int64\n",
      "k = \"NAXIS5\"\n",
      "val = 1\n",
      "typeof(val) = Int64\n",
      "k = \"NAXIS6\"\n",
      "val = 1\n",
      "typeof(val) = Int64\n",
      "k = \"NAXIS7\"\n",
      "val = 1\n",
      "typeof(val) = Int64\n",
      "k = \"EXTEND\"\n",
      "val = true\n",
      "typeof(val) = Bool\n",
      "k = \"GROUPS\"\n",
      "val = true\n",
      "typeof(val) = Bool\n",
      "k = \"PCOUNT\"\n",
      "val = 7\n",
      "typeof(val) = Int64\n",
      "k = \"GCOUNT\"\n",
      "val = 3436\n",
      "typeof(val) = Int64\n",
      "k = \"ORIGIN\"\n",
      "val = \"AIPSlocalhost    BUSGJ                31DEC09\"\n",
      "typeof(val) = String\n",
      "k = \"DATE-OBS\"\n",
      "val = \"2009-04-01\"\n",
      "typeof(val) = String\n",
      "k = \"TELESCOP\"\n",
      "val = \"VLBA\"\n",
      "typeof(val) = String\n",
      "k = \"OBSERVER\"\n",
      "val = \"S1136\"\n",
      "typeof(val) = String\n",
      "k = \"OBJECT\"\n",
      "val = \"1156+295\"\n",
      "typeof(val) = String\n",
      "k = \"EPOCH\"\n",
      "val = 2000.0\n",
      "typeof(val) = Float64\n",
      "k = \"BSCALE\"\n",
      "val = 1.0\n",
      "typeof(val) = Float64\n",
      "k = \"BZERO\"\n",
      "val = 0.0\n",
      "typeof(val) = Float64\n",
      "k = \"BUNIT\"\n",
      "val = \"UNCALIB\"\n",
      "typeof(val) = String\n",
      "k = \"VELREF\"\n",
      "val = 3\n",
      "typeof(val) = Int64\n",
      "k = \"ALTRVAL\"\n",
      "val = 0.0\n",
      "typeof(val) = Float64\n",
      "k = \"ALTRPIX\"\n",
      "val = 0.0\n",
      "typeof(val) = Float64\n",
      "k = \"RESTFREQ\"\n",
      "val = 0.0\n",
      "typeof(val) = Float64\n",
      "k = \"OBSRA\"\n",
      "val = 179.882641296\n",
      "typeof(val) = Float64\n",
      "k = \"OBSDEC\"\n",
      "val = 29.2455074583\n",
      "typeof(val) = Float64\n"
     ]
    }
   ],
   "source": [
    "for k in keys(header)\n",
    "    if k == \"HISTORY\"\n",
    "        break\n",
    "    elseif ismatch(r\"^CT\", k) || ismatch(r\"^CR\", k) || ismatch(r\"^CD\", k) || ismatch(r\"^PT\", k) || ismatch(r\"^PS\", k) || ismatch(r\"^PZ\", k) \n",
    "        continue\n",
    "    end\n",
    "    val = header[k]\n",
    "    push!(fname, Symbol(k))\n",
    "    push!(ftype, typeof(val))\n",
    "    push!(fvalue, val)\n",
    "    @show k val typeof(val)\n",
    "end"
   ]
  },
  {
   "cell_type": "code",
   "execution_count": null,
   "metadata": {
    "collapsed": true
   },
   "outputs": [],
   "source": []
  },
  {
   "cell_type": "code",
   "execution_count": null,
   "metadata": {
    "collapsed": true
   },
   "outputs": [],
   "source": []
  },
  {
   "cell_type": "raw",
   "metadata": {},
   "source": [
    "#$self->{Params}->{$type} = $self->{Params}->{Raw}->(($_ - 1),:)->double*\n",
    "#            $self->{Header}->{\"PSCAL\".$_} + $self->{Header}->{\"PZERO\".$_} + \n",
    "#            $previous_param;"
   ]
  },
  {
   "cell_type": "code",
   "execution_count": null,
   "metadata": {
    "collapsed": true
   },
   "outputs": [],
   "source": [
    "for i in 1:header[\"PCOUNT\"]\n",
    "    fname = header[\"PTYPE$i\"]\n",
    "    d = view(data, i, :)*header[\"PSCAL$i\"] + header[\"PZERO$i\"]\n",
    "    setfield(obs, fname, d)\n",
    "end"
   ]
  },
  {
   "cell_type": "raw",
   "metadata": {},
   "source": [
    "for ($n = 2; $n <= $naxes; $n++) {\n",
    "        push @columns, $self->{Header}->{'NAXIS'.$n};\n",
    "    }\n",
    "\n",
    "    my $size = pdl(@columns)->prodover*$GCOUNT;\n",
    "\n",
    "    my $data = zeroes(float, $size);\n",
    "\n",
    "    $file->read_col(TFLOAT,\n",
    "                    2,\n",
    "                    1,\n",
    "                    1,\n",
    "                    $size,\n",
    "                    0,\n",
    "                    ${$data->get_dataref},\n",
    "                    undef,\n",
    "                    $status);\n",
    "\n",
    "    $data->upd_data;\n",
    "\n",
    "    $data->reshape(@columns, $GCOUNT);\n",
    "\n",
    "    $self->{Visibilities} = $data(0:1,:);\n",
    "    cplx $self->{Visibilities};\n",
    "    $self->{Weights} = $data(2,:);\n",
    "    $self->{Time} = $self->{Params}->{DATE};\n",
    "    \n",
    "    my $baseline = $self->{Params}->{BASELINE};\n",
    "\n",
    "    $self->{Telescope1} = floor($baseline/256)->byte;\n",
    "    $self->{Telescope2} = floor($baseline%256)->byte;\n",
    "    $self->{Subarray} = (($baseline - rint($baseline))*100 + 1)->byte;\n",
    "\n"
   ]
  },
  {
   "cell_type": "code",
   "execution_count": null,
   "metadata": {
    "collapsed": true
   },
   "outputs": [],
   "source": []
  },
  {
   "cell_type": "code",
   "execution_count": 123,
   "metadata": {},
   "outputs": [
    {
     "data": {
      "text/plain": [
       "127-element Array{Any,1}:\n",
       " true       \n",
       "  -32       \n",
       "    7       \n",
       "    0       \n",
       "    3       \n",
       "    4       \n",
       "    1       \n",
       "    1       \n",
       "    1       \n",
       "    1       \n",
       " true       \n",
       " true       \n",
       "    7       \n",
       "    ⋮       \n",
       "     nothing\n",
       "     nothing\n",
       "     nothing\n",
       "     nothing\n",
       "     nothing\n",
       "     nothing\n",
       "     nothing\n",
       "     nothing\n",
       "     nothing\n",
       "     nothing\n",
       "     nothing\n",
       "     nothing"
      ]
     },
     "execution_count": 123,
     "metadata": {},
     "output_type": "execute_result"
    }
   ],
   "source": [
    "fvalue"
   ]
  },
  {
   "cell_type": "code",
   "execution_count": null,
   "metadata": {
    "collapsed": true
   },
   "outputs": [],
   "source": []
  },
  {
   "cell_type": "code",
   "execution_count": 111,
   "metadata": {},
   "outputs": [
    {
     "data": {
      "text/plain": [
       "Bool"
      ]
     },
     "execution_count": 111,
     "metadata": {},
     "output_type": "execute_result"
    }
   ],
   "source": [
    "typeof(header[\"EXTEND\"])"
   ]
  },
  {
   "cell_type": "code",
   "execution_count": 119,
   "metadata": {},
   "outputs": [
    {
     "data": {
      "text/plain": [
       "Base.Zip2{Array{Float64,1},Array{Float64,1}}([0.442046,0.748914,0.878607,0.282107,0.505286],[0.585354,0.12213,0.534296,0.54128,0.0338824])"
      ]
     },
     "execution_count": 119,
     "metadata": {},
     "output_type": "execute_result"
    }
   ],
   "source": [
    "a=rand(5);b=rand(5);zip(a,b)"
   ]
  },
  {
   "cell_type": "code",
   "execution_count": 121,
   "metadata": {},
   "outputs": [
    {
     "data": {
      "text/plain": [
       ":a"
      ]
     },
     "execution_count": 121,
     "metadata": {},
     "output_type": "execute_result"
    }
   ],
   "source": [
    "Symbol(\"a\")"
   ]
  },
  {
   "cell_type": "code",
   "execution_count": null,
   "metadata": {
    "collapsed": true
   },
   "outputs": [],
   "source": []
  },
  {
   "cell_type": "code",
   "execution_count": null,
   "metadata": {
    "collapsed": true
   },
   "outputs": [],
   "source": []
  },
  {
   "cell_type": "code",
   "execution_count": null,
   "metadata": {
    "collapsed": true
   },
   "outputs": [],
   "source": []
  }
 ],
 "metadata": {
  "anaconda-cloud": {},
  "kernelspec": {
   "display_name": "Julia 0.5.2",
   "language": "julia",
   "name": "julia-0.5"
  },
  "language_info": {
   "file_extension": ".jl",
   "mimetype": "application/julia",
   "name": "julia",
   "version": "0.5.0"
  }
 },
 "nbformat": 4,
 "nbformat_minor": 1
}
